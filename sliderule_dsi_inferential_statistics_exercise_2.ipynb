{
 "cells": [
  {
   "cell_type": "markdown",
   "metadata": {},
   "source": [
    "# Examining Racial Discrimination in the US Job Market\n",
    "\n",
    "### Background\n",
    "Racial discrimination continues to be pervasive in cultures throughout the world. Researchers examined the level of racial discrimination in the United States labor market by randomly assigning identical résumés to black-sounding or white-sounding names and observing the impact on requests for interviews from employers.\n",
    "\n",
    "### Data\n",
    "In the dataset provided, each row represents a resume. The 'race' column has two values, 'b' and 'w', indicating black-sounding and white-sounding. The column 'call' has two values, 1 and 0, indicating whether the resume received a call from employers or not.\n",
    "\n",
    "Note that the 'b' and 'w' values in race are assigned randomly to the resumes when presented to the employer."
   ]
  },
  {
   "cell_type": "markdown",
   "metadata": {},
   "source": [
    "<div class=\"span5 alert alert-info\">\n",
    "### Exercises\n",
    "You will perform a statistical analysis to establish whether race has a significant impact on the rate of callbacks for resumes.\n",
    "\n",
    "Answer the following questions **in this notebook below and submit to your Github account**. \n",
    "\n",
    "   1. What test is appropriate for this problem? Does CLT apply?\n",
    "   2. What are the null and alternate hypotheses?\n",
    "   3. Compute margin of error, confidence interval, and p-value.\n",
    "   4. Write a story describing the statistical significance in the context or the original problem.\n",
    "   5. Does your analysis mean that race/name is the most important factor in callback success? Why or why not? If not, how would you amend your analysis?\n",
    "\n",
    "You can include written notes in notebook cells using Markdown: \n",
    "   - In the control panel at the top, choose Cell > Cell Type > Markdown\n",
    "   - Markdown syntax: http://nestacms.com/docs/creating-content/markdown-cheat-sheet\n",
    "\n",
    "\n",
    "#### Resources\n",
    "+ Experiment information and data source: http://www.povertyactionlab.org/evaluation/discrimination-job-market-united-states\n",
    "+ Scipy statistical methods: http://docs.scipy.org/doc/scipy/reference/stats.html \n",
    "+ Markdown syntax: http://nestacms.com/docs/creating-content/markdown-cheat-sheet\n",
    "</div>\n",
    "****"
   ]
  },
  {
   "cell_type": "code",
   "execution_count": 1,
   "metadata": {
    "collapsed": true
   },
   "outputs": [],
   "source": [
    "import pandas as pd\n",
    "import numpy as np\n",
    "from scipy import stats"
   ]
  },
  {
   "cell_type": "code",
   "execution_count": 2,
   "metadata": {
    "collapsed": false
   },
   "outputs": [],
   "source": [
    "# Reading in data\n",
    "\n",
    "data = pd.io.stata.read_stata(\"C:\\\\Users\\\\sudhanshu\\\\Desktop\\\\Springboard\\\\Inferential Statistics\\\\Excercise2\\\\data\\\\us_job_market_discrimination.dta\")\n"
   ]
  },
  {
   "cell_type": "code",
   "execution_count": 3,
   "metadata": {
    "collapsed": false
   },
   "outputs": [],
   "source": [
    "# Ques1: What sort of test is appropriate?\n",
    "\n",
    "#Answer: Two tail Z test for proportions\n",
    "#underlying assumption is bionomial distribution"
   ]
  },
  {
   "cell_type": "code",
   "execution_count": 4,
   "metadata": {
    "collapsed": false
   },
   "outputs": [],
   "source": [
    "# Ques2: What are Null and Alternate Hypothesis?\n",
    "\n",
    "# Ho: No difference between interview call for a White sounding name v.s a Black sounding name\n",
    "# H1: Significant difference between interview call for a White sounding name v.s a Black sounding name\n"
   ]
  },
  {
   "cell_type": "code",
   "execution_count": 5,
   "metadata": {
    "collapsed": false
   },
   "outputs": [],
   "source": [
    "# Checking for  significant diffrence between proportions:\n",
    "\n",
    "#Subsetting data\n",
    "black_sounding=data[data[\"race\"]==\"b\"]\n",
    "white_sounding=data[data[\"race\"]==\"w\"]\n"
   ]
  },
  {
   "cell_type": "code",
   "execution_count": 6,
   "metadata": {
    "collapsed": true
   },
   "outputs": [],
   "source": [
    "#Counting sample and population size\n",
    "\n",
    "black_Total=black_sounding[\"race\"].count()\n",
    "white_Total=white_sounding[\"race\"].count()\n",
    "total_Call_Count=data[\"race\"].count()\n"
   ]
  },
  {
   "cell_type": "code",
   "execution_count": 7,
   "metadata": {
    "collapsed": true
   },
   "outputs": [],
   "source": [
    "#Calculating interview call per population\n",
    "\n",
    "black_Call=black_sounding[\"call\"].sum()\n",
    "white_Call=white_sounding[\"call\"].sum()\n"
   ]
  },
  {
   "cell_type": "code",
   "execution_count": 8,
   "metadata": {
    "collapsed": true
   },
   "outputs": [],
   "source": [
    "#Calculating Sample and Population proportions\n",
    "\n",
    "black_Call_Prop= black_Call/black_Total\n",
    "white_Call_Prop= white_Call/white_Total\n",
    "total_Call_Prop=data[\"call\"].sum()/data[\"call\"].count()\n"
   ]
  },
  {
   "cell_type": "code",
   "execution_count": 9,
   "metadata": {
    "collapsed": false
   },
   "outputs": [
    {
     "name": "stdout",
     "output_type": "stream",
     "text": [
      "Z Score is 5.81017218579\n"
     ]
    }
   ],
   "source": [
    "#Calculating Z Score: at critical value +-1.96 (95%)\n",
    "\n",
    "Stand_Deviation_Population=np.sqrt((2*total_Call_Prop*(1-total_Call_Prop))/total_Call_Count) #as Sample size is same for both populations\n",
    "\n",
    "ZScore=(white_Call_Prop - black_Call_Prop)/Stand_Deviation_Population\n",
    "\n",
    "print(\"Z Score is\",ZScore)\n"
   ]
  },
  {
   "cell_type": "code",
   "execution_count": 10,
   "metadata": {
    "collapsed": false
   },
   "outputs": [
    {
     "name": "stdout",
     "output_type": "stream",
     "text": [
      "From: 0.042838798034\n",
      "To: 0.0212269103849\n"
     ]
    }
   ],
   "source": [
    "#Confidence Interval 95%\n",
    "print(\"From:\", (white_Call_Prop - black_Call_Prop) + 1.96*Stand_Deviation_Population)\n",
    "print(\"To:\", (white_Call_Prop - black_Call_Prop) - 1.96*Stand_Deviation_Population)"
   ]
  },
  {
   "cell_type": "code",
   "execution_count": 11,
   "metadata": {
    "collapsed": true
   },
   "outputs": [],
   "source": [
    "#As Z Score is outside the critical value range of +-1.96 we can reject the NULL Hypothesis \n",
    "#and say that there is a significant difference between the interview call w.r.t race. White race sample has a \n",
    "#greater chance of an interview call w.r.t an equivalent Black race sample\n",
    "# Hence race is an important factor if we need to predict interview call"
   ]
  }
 ],
 "metadata": {
  "anaconda-cloud": {},
  "kernelspec": {
   "display_name": "Python [conda root]",
   "language": "python",
   "name": "conda-root-py"
  },
  "language_info": {
   "codemirror_mode": {
    "name": "ipython",
    "version": 3
   },
   "file_extension": ".py",
   "mimetype": "text/x-python",
   "name": "python",
   "nbconvert_exporter": "python",
   "pygments_lexer": "ipython3",
   "version": "3.5.2"
  }
 },
 "nbformat": 4,
 "nbformat_minor": 0
}
