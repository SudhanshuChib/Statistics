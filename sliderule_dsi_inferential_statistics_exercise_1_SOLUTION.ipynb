{
 "cells": [
  {
   "cell_type": "markdown",
   "metadata": {},
   "source": [
    "# What is the True Normal Human Body Temperature? \n",
    "\n",
    "#### Background\n",
    "\n",
    "The mean normal body temperature was held to be 37$^{\\circ}$C or 98.6$^{\\circ}$F for more than 120 years since it was first conceptualized and reported by Carl Wunderlich in a famous 1868 book. But, is this value statistically correct?"
   ]
  },
  {
   "cell_type": "markdown",
   "metadata": {},
   "source": [
    "<div class=\"span5 alert alert-info\">\n",
    "<h3>Exercises</h3>\n",
    "\n",
    "<p>In this exercise, you will analyze a dataset of human body temperatures and employ the concepts of hypothesis testing, confidence intervals, and statistical significance.</p>\n",
    "\n",
    "<p>Answer the following questions <b>in this notebook below and submit to your Github account</b>.</p> \n",
    "\n",
    "<ol>\n",
    "<li>  Is the distribution of body temperatures normal? \n",
    "    <ul>\n",
    "    <li> Although this is not a requirement for CLT to hold (read CLT carefully), it gives us some peace of mind that the population may also be normally distributed if we assume that this sample is representative of the population.\n",
    "    </ul>\n",
    "<li>  Is the sample size large? Are the observations independent?\n",
    "    <ul>\n",
    "    <li> Remember that this is a condition for the CLT, and hence the statistical tests we are using, to apply.\n",
    "    </ul>\n",
    "<li>  Is the true population mean really 98.6 degrees F?\n",
    "    <ul>\n",
    "    <li> Would you use a one-sample or two-sample test? Why?\n",
    "    <li> In this situation, is it appropriate to use the $t$ or $z$ statistic? \n",
    "    <li> Now try using the other test. How is the result be different? Why?\n",
    "    </ul>\n",
    "<li>  At what temperature should we consider someone's temperature to be \"abnormal\"?\n",
    "    <ul>\n",
    "    <li> Start by computing the margin of error and confidence interval.\n",
    "    </ul>\n",
    "<li>  Is there a significant difference between males and females in normal temperature?\n",
    "    <ul>\n",
    "    <li> What test did you use and why?\n",
    "    <li> Write a story with your conclusion in the context of the original problem.\n",
    "    </ul>\n",
    "</ol>\n",
    "\n",
    "You can include written notes in notebook cells using Markdown: \n",
    "   - In the control panel at the top, choose Cell > Cell Type > Markdown\n",
    "   - Markdown syntax: http://nestacms.com/docs/creating-content/markdown-cheat-sheet\n",
    "\n",
    "#### Resources\n",
    "\n",
    "+ Information and data sources: http://www.amstat.org/publications/jse/datasets/normtemp.txt, http://www.amstat.org/publications/jse/jse_data_archive.htm\n",
    "+ Markdown syntax: http://nestacms.com/docs/creating-content/markdown-cheat-sheet\n",
    "\n",
    "****\n",
    "</div>"
   ]
  },
  {
   "cell_type": "code",
   "execution_count": 1,
   "metadata": {
    "collapsed": false
   },
   "outputs": [],
   "source": [
    "# Reading Data\n",
    "\n",
    "import pandas as pd\n",
    "import matplotlib.pyplot as plt\n",
    "import numpy as np\n",
    "%matplotlib inline\n",
    "import sys\n",
    "\n",
    "df = pd.read_csv('C:\\\\Users\\\\sudhanshu\\\\Desktop\\\\Springboard\\\\Exploratory Data Analysis\\\\human_temp\\\\data\\\\human_body_temperature.csv')\n"
   ]
  },
  {
   "cell_type": "code",
   "execution_count": 2,
   "metadata": {
    "collapsed": false
   },
   "outputs": [
    {
     "data": {
      "text/plain": [
       "<matplotlib.axes._subplots.AxesSubplot at 0xf0f8fc50b8>"
      ]
     },
     "execution_count": 2,
     "metadata": {},
     "output_type": "execute_result"
    },
    {
     "data": {
      "image/png": "[encoded data removed]",
      "text/plain": [
       "<matplotlib.figure.Figure at 0xf0f598a240>"
      ]
     },
     "metadata": {},
     "output_type": "display_data"
    }
   ],
   "source": [
    "#Ques 1: Is the distribution of body temperatures normal?\n",
    "#Answer: Checked population distribution by plotting Histogram\n",
    "\n",
    "plt.figure()\n",
    "\n",
    "df[\"temperature\"].diff().hist(bins=10)\n",
    "\n",
    "#Population appers to be normal (bell shaped)\n"
   ]
  },
  {
   "cell_type": "code",
   "execution_count": 3,
   "metadata": {
    "collapsed": false
   },
   "outputs": [
    {
     "data": {
      "text/plain": [
       "130"
      ]
     },
     "execution_count": 3,
     "metadata": {},
     "output_type": "execute_result"
    }
   ],
   "source": [
    "#Ques 2: Is the sample size large? Are the observations independent?\n",
    "#Answer:  Calculated the sample size. With sample size at 130 it is large enough.\n",
    "# Difficult to answer the independence question as little information is available\n",
    "# as to how it is collected.\n",
    "sample_Count=df[\"temperature\"].count()\n",
    "sample_Count\n",
    "\n",
    "#Sample seems large enough (>30)\n",
    "\n"
   ]
  },
  {
   "cell_type": "code",
   "execution_count": 4,
   "metadata": {
    "collapsed": false
   },
   "outputs": [
    {
     "data": {
      "text/plain": [
       "98.24923076923078"
      ]
     },
     "execution_count": 4,
     "metadata": {},
     "output_type": "execute_result"
    }
   ],
   "source": [
    "\n",
    "#Ques 3:  Is the true population mean really 98.6 degrees F? Would you use a one-sample or two-sample test? Why?\n",
    "#         In this situation, is it appropriate to use the tt or zz statistic?\n",
    "\n",
    "#Answer: Sample mean is taken as the estimation of population mean and confidence interval\n",
    "#at 95% are calculated around it using 2 tail Z test. Z test is chosen because sample size is large enough\n",
    "#and condition of T test: unkown population SD AND sample size less than 30 are not met\n",
    "#Now try using the other test. How is the result be different? Why? \n",
    "\n",
    "sample_mean=df[\"temperature\"].mean()\n",
    "sample_mean\n",
    "\n",
    "#Point estimate of population mean is 98.24923076923078\n",
    "\n"
   ]
  },
  {
   "cell_type": "code",
   "execution_count": 5,
   "metadata": {
    "collapsed": false
   },
   "outputs": [
    {
     "data": {
      "text/plain": [
       "0.7331831580389454"
      ]
     },
     "execution_count": 5,
     "metadata": {},
     "output_type": "execute_result"
    }
   ],
   "source": [
    "\n",
    "# Sample Stand Deviation is:\n",
    "\n",
    "sample_Std=df[\"temperature\"].std()\n",
    "sample_Std\n",
    "\n"
   ]
  },
  {
   "cell_type": "code",
   "execution_count": 6,
   "metadata": {
    "collapsed": false
   },
   "outputs": [
    {
     "name": "stdout",
     "output_type": "stream",
     "text": [
      "Lower Limit for Z test is  98.1231941122\n",
      "Upper Limit for Z test is  98.3752674262\n"
     ]
    }
   ],
   "source": [
    "#At 95% confidence(Two tail critical value for Z test: 1.96) we can say that it may lie between:    \n",
    "UpperLimit = sample_mean + 1.96*(sample_Std/np.sqrt(sample_Count)) \n",
    "LowerLimit = sample_mean - 1.96*(sample_Std/np.sqrt(sample_Count)) \n",
    "print(\"Lower Limit for Z test is \", LowerLimit)\n",
    "print(\"Upper Limit for Z test is \", UpperLimit)\n"
   ]
  },
  {
   "cell_type": "code",
   "execution_count": 7,
   "metadata": {
    "collapsed": false
   },
   "outputs": [
    {
     "name": "stdout",
     "output_type": "stream",
     "text": [
      "Lower Limit for T test is  98.1216508062\n",
      "Upper Limit for T test is  98.3768107322\n"
     ]
    }
   ],
   "source": [
    "\n",
    "#Two tail test is chosen because the value of the mean can be lower or higer than the Point Estimate\n",
    "\n",
    "#At 95% confidence(Two tail critical value for T test: 1.984) we can say that it may lie between:    \n",
    "t_test_UpperLimit = sample_mean + 1.984*(sample_Std/np.sqrt(sample_Count)) \n",
    "t_test_LowerLimit = sample_mean - 1.984*(sample_Std/np.sqrt(sample_Count)) \n",
    "print(\"Lower Limit for T test is \", t_test_LowerLimit)\n",
    "print(\"Upper Limit for T test is \", t_test_UpperLimit)\n",
    "\n",
    "#95% confidence interval is wider in case of T test because it is a fatter distribustion than \n",
    "#pure normal distribution specified by Z test\n"
   ]
  },
  {
   "cell_type": "code",
   "execution_count": 8,
   "metadata": {
    "collapsed": true
   },
   "outputs": [],
   "source": [
    "#Ques 4: At what temperature should we consider someone's temperature to be \"abnormal\"?\n",
    "#Answer: At temprature greater than 98.375 or less than 98.123 because that is the range \n",
    "#in which we can confidently say 95% normal body tempratue will be. Alternatively there is only 5% chance that \n",
    "#body temprature will be outside this range\n"
   ]
  },
  {
   "cell_type": "code",
   "execution_count": 9,
   "metadata": {
    "collapsed": false
   },
   "outputs": [
    {
     "name": "stdout",
     "output_type": "stream",
     "text": [
      "Z Score -2.28543453817\n"
     ]
    }
   ],
   "source": [
    "#Ques 5: Is there a significant diffrence between male and females in normal temprature?\n",
    "#        What test will you use and why?\n",
    "#Answer:\n",
    "\n",
    "#Subsetting data for male and female population\n",
    "\n",
    "Male=df[(df[\"gender\"]==\"M\")]\n",
    "Female=df[(df[\"gender\"]==\"F\")]\n",
    "                \n",
    "Male_mean=Male[\"temperature\"].mean()\n",
    "Female_mean=Female[\"temperature\"].mean()\n",
    "\n",
    "Diff=Male_mean-Female_mean\n",
    "\n",
    "\n",
    "Male_Std=Male[\"temperature\"].std()\n",
    "Female_Std=Female[\"temperature\"].std()\n",
    "\n",
    "Male_Count=Male[\"temperature\"].count()\n",
    "Female_Count=Female[\"temperature\"].count()\n",
    "\n",
    "Zstat=Diff/(np.sqrt( (Male_Std**2)/Male_Count + (Female_Std**2)/Female_Count ))\n",
    "\n",
    "print(\"Z Score\", Zstat)\n",
    "\n",
    "# As Z score (-2.285) is less than the critical value at -1.96 hence there is a \n",
    "# significant difference between Male and Female body temprature\n",
    "# Females seem to be  hotter than Males by approx 0.3 degree but the Effect size is \n",
    "# pretty Small for all practical purposes \n"
   ]
  },
  {
   "cell_type": "markdown",
   "metadata": {},
   "source": []
  }
 ],
 "metadata": {
  "anaconda-cloud": {},
  "kernelspec": {
   "display_name": "Python [conda root]",
   "language": "python",
   "name": "conda-root-py"
  },
  "language_info": {
   "codemirror_mode": {
    "name": "ipython",
    "version": 3
   },
   "file_extension": ".py",
   "mimetype": "text/x-python",
   "name": "python",
   "nbconvert_exporter": "python",
   "pygments_lexer": "ipython3",
   "version": "3.5.2"
  }
 },
 "nbformat": 4,
 "nbformat_minor": 0
}
